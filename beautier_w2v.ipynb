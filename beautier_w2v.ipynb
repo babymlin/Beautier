{
 "cells": [
  {
   "cell_type": "code",
   "execution_count": 1,
   "id": "c79f0124",
   "metadata": {},
   "outputs": [
    {
     "name": "stderr",
     "output_type": "stream",
     "text": [
      "Building prefix dict from D:\\onedrive\\Documents\\data\\dict.big ...\n",
      "Loading model from cache R:\\TEMP\\jieba.u3fc4963e5b0b71d0127ab7586a4086cb.cache\n",
      "Loading model cost 1.380 seconds.\n",
      "Prefix dict has been built successfully.\n"
     ]
    }
   ],
   "source": [
    "from urllib.request import urlretrieve\n",
    "import jieba\n",
    "import warnings\n",
    "warnings.filterwarnings(\"ignore\")\n",
    "\"\"\"\n",
    "url = \"https://github.com/fxsjy/jieba/raw/master/extra_dict/dict.txt.big\"\n",
    "urlretrieve(url, \"dict.big\")\n",
    "url = \"https://github.com/Elwing-Chou/mtkdl/raw/master/ptt_dic.txt\"\n",
    "urlretrieve(url, \"dict.ptt\")\n",
    "\"\"\"\n",
    "jieba.set_dictionary(\"dict.big\")\n",
    "jieba.load_userdict(\"dict.ptt\")"
   ]
  },
  {
   "cell_type": "code",
   "execution_count": 2,
   "id": "b94cb435",
   "metadata": {},
   "outputs": [
    {
     "data": {
      "text/html": [
       "<div>\n",
       "<style scoped>\n",
       "    .dataframe tbody tr th:only-of-type {\n",
       "        vertical-align: middle;\n",
       "    }\n",
       "\n",
       "    .dataframe tbody tr th {\n",
       "        vertical-align: top;\n",
       "    }\n",
       "\n",
       "    .dataframe thead th {\n",
       "        text-align: right;\n",
       "    }\n",
       "</style>\n",
       "<table border=\"1\" class=\"dataframe\">\n",
       "  <thead>\n",
       "    <tr style=\"text-align: right;\">\n",
       "      <th></th>\n",
       "      <th>產品名</th>\n",
       "      <th>分數</th>\n",
       "      <th>產品圖片</th>\n",
       "      <th>品牌</th>\n",
       "      <th>分類</th>\n",
       "      <th>評論1</th>\n",
       "      <th>評論2</th>\n",
       "      <th>評論3</th>\n",
       "      <th>評論4</th>\n",
       "      <th>評論5</th>\n",
       "      <th>評論6</th>\n",
       "      <th>評論7</th>\n",
       "      <th>評論8</th>\n",
       "      <th>評論9</th>\n",
       "      <th>評論10</th>\n",
       "    </tr>\n",
       "  </thead>\n",
       "  <tbody>\n",
       "    <tr>\n",
       "      <th>0</th>\n",
       "      <td>三色修容餅  Triple Contour Palette</td>\n",
       "      <td>5.4</td>\n",
       "      <td>https://dg9ugnb21lig7.cloudfront.net/uploads/p...</td>\n",
       "      <td>heme</td>\n",
       "      <td>修容餅</td>\n",
       "      <td>Heme三色修容盤  已經購入一陣子啦～  用到鐵皮君出沒😆  色號：01 NATIONA...</td>\n",
       "      <td>獲得超多美妝YouTuber 推薦的 heme三色修容餅 以前化妝沒那麼注重修容 都隨便刷刷...</td>\n",
       "      <td>這款修容上市前 我一直都是使用 too cool for school 的修容餅 不得不說h...</td>\n",
       "      <td>以前沒有使用修容的習慣,後來開始上課學習彩妝以後 經過老師的說明,還有一些美妝YT的影片後 ...</td>\n",
       "      <td>這塊修容餅粉質綿密是屬於沒那麼顯色的，但就是因為不太顯色的特性，很適合修容或製造眼窩及鼻影...</td>\n",
       "      <td>官網表示: 首次推出「三色修容餅」，精選冷暖兩大色調，特調三色色塊圓型均分，可任意沾取混色，...</td>\n",
       "      <td>在IG上抽獎抽到的 顏色還不錯 可惜用沒兩次就不小心摔碎了QQ 沒辦法提供太多心得 只能挖I...</td>\n",
       "      <td>首先要先說他的價格，購入價格是299真的cp很高，對於之前沒用過修容的我也很容易上手，我是用...</td>\n",
       "      <td>買了00號冷色調 最淺色用作眼窩打底 中間色打鼻影兩側 中間跟最深色混刷打在下顎線 覺得很自...</td>\n",
       "      <td>NONE</td>\n",
       "    </tr>\n",
       "  </tbody>\n",
       "</table>\n",
       "</div>"
      ],
      "text/plain": [
       "                             產品名   分數  \\\n",
       "0  三色修容餅  Triple Contour Palette  5.4   \n",
       "\n",
       "                                                產品圖片    品牌   分類  \\\n",
       "0  https://dg9ugnb21lig7.cloudfront.net/uploads/p...  heme  修容餅   \n",
       "\n",
       "                                                 評論1  \\\n",
       "0   Heme三色修容盤  已經購入一陣子啦～  用到鐵皮君出沒😆  色號：01 NATIONA...   \n",
       "\n",
       "                                                 評論2  \\\n",
       "0  獲得超多美妝YouTuber 推薦的 heme三色修容餅 以前化妝沒那麼注重修容 都隨便刷刷...   \n",
       "\n",
       "                                                 評論3  \\\n",
       "0  這款修容上市前 我一直都是使用 too cool for school 的修容餅 不得不說h...   \n",
       "\n",
       "                                                 評論4  \\\n",
       "0  以前沒有使用修容的習慣,後來開始上課學習彩妝以後 經過老師的說明,還有一些美妝YT的影片後 ...   \n",
       "\n",
       "                                                 評論5  \\\n",
       "0   這塊修容餅粉質綿密是屬於沒那麼顯色的，但就是因為不太顯色的特性，很適合修容或製造眼窩及鼻影...   \n",
       "\n",
       "                                                 評論6  \\\n",
       "0  官網表示: 首次推出「三色修容餅」，精選冷暖兩大色調，特調三色色塊圓型均分，可任意沾取混色，...   \n",
       "\n",
       "                                                 評論7  \\\n",
       "0  在IG上抽獎抽到的 顏色還不錯 可惜用沒兩次就不小心摔碎了QQ 沒辦法提供太多心得 只能挖I...   \n",
       "\n",
       "                                                 評論8  \\\n",
       "0  首先要先說他的價格，購入價格是299真的cp很高，對於之前沒用過修容的我也很容易上手，我是用...   \n",
       "\n",
       "                                                 評論9  評論10  \n",
       "0  買了00號冷色調 最淺色用作眼窩打底 中間色打鼻影兩側 中間跟最深色混刷打在下顎線 覺得很自...  NONE  "
      ]
     },
     "execution_count": 2,
     "metadata": {},
     "output_type": "execute_result"
    }
   ],
   "source": [
    "import pandas as pd\n",
    "data = pd.read_csv(\"data.csv\", header=0)\n",
    "data.head()[:1]"
   ]
  },
  {
   "cell_type": "code",
   "execution_count": 3,
   "id": "38a83e10",
   "metadata": {},
   "outputs": [],
   "source": [
    "df = data.copy()\n",
    "df[\"combine\"] = df[df.columns[5:]].apply(\" \".join, axis=1)"
   ]
  },
  {
   "cell_type": "code",
   "execution_count": 4,
   "id": "a5cde937",
   "metadata": {},
   "outputs": [],
   "source": [
    "import re\n",
    "def process(content):\n",
    "    content = re.sub(r'https?:\\/\\/.*[\\r\\n]*', '', content)\n",
    "    punct = set(u''':!),.:;?]}¢'\"、。〉》」』】〕〗〞︰︱︳﹐､﹒﹔﹕﹖﹗﹚﹜﹞！），．：；？｜｝︴︶︸︺︼︾﹀﹂﹄﹏､～￠々‖•·ˇˉ―--′’”([{£¥'\"‵〈《「『【〔〖（［｛￡￥〝︵︷︹︻︽︿﹁﹃﹙﹛﹝（｛“‘-—_…~/ －＊➜■─★☆=@<>◉é''')\n",
    "    cut = filter(lambda x: x not in punct, jieba.cut(content))\n",
    "    return \" \".join(cut)\n",
    "df[\"combine\"] = df[\"combine\"].apply(process)\n",
    "df[\"combine\"] = df[\"combine\"].str.replace(\"NONE\", \"\")\n",
    "df[\"combine\"] = df[\"combine\"].str.replace(\"的\", \"\")\n",
    "df[\"combine\"] = df[\"combine\"].str.replace(\"我\", \"\")\n",
    "df[\"combine\"] = df[\"combine\"].str.replace(\"是\", \"\")\n",
    "df[\"combine\"] = df[\"combine\"].str.replace(\"買\", \"\")\n",
    "df[\"combine\"] = df[\"combine\"].str.replace(\"了\", \"\")\n",
    "df[\"combine\"] = df[\"combine\"].str.replace(\"有\", \"\")\n",
    "df[\"combine\"] = df[\"combine\"].str.replace(\"很\", \"\")"
   ]
  },
  {
   "cell_type": "code",
   "execution_count": 5,
   "id": "77232a9b",
   "metadata": {},
   "outputs": [],
   "source": [
    "with open(\"lines.txt\", \"w\", encoding=\"utf-8\") as f:\n",
    "    for content in df[\"combine\"]:\n",
    "        f.write(content)\n",
    "        f.write(\"\\n\")"
   ]
  },
  {
   "cell_type": "code",
   "execution_count": 6,
   "id": "b12715ff",
   "metadata": {},
   "outputs": [],
   "source": [
    "from gensim.models.word2vec import LineSentence\n",
    "from gensim.models.word2vec import Word2Vec\n",
    "sentences = LineSentence(\"lines.txt\")\n",
    "model = Word2Vec(sentences)"
   ]
  },
  {
   "cell_type": "code",
   "execution_count": 7,
   "id": "5d1f74b2",
   "metadata": {},
   "outputs": [
    {
     "data": {
      "text/plain": [
       "[('哈', 0.9983420968055725),\n",
       " ('香港', 0.9979693293571472),\n",
       " ('自從', 0.9979409575462341),\n",
       " ('曾經', 0.9977555274963379),\n",
       " ('三合一', 0.9975197315216064),\n",
       " ('火紅', 0.9974365234375),\n",
       " ('身邊', 0.9974044561386108),\n",
       " ('保濕款', 0.9973937273025513),\n",
       " ('打算', 0.9973816275596619),\n",
       " ('此生', 0.9973341226577759)]"
      ]
     },
     "execution_count": 7,
     "metadata": {},
     "output_type": "execute_result"
    }
   ],
   "source": [
    "vocab = \"武士刀\"\n",
    "model.wv[vocab]\n",
    "model.wv.most_similar(vocab)"
   ]
  },
  {
   "cell_type": "code",
   "execution_count": 8,
   "id": "d329a5bc",
   "metadata": {},
   "outputs": [
    {
     "name": "stdout",
     "output_type": "stream",
     "text": [
      "867\n"
     ]
    }
   ],
   "source": [
    "import numpy as np\n",
    "import jieba.analyse\n",
    "encodings = []\n",
    "for content in df[\"combine\"]:\n",
    "    tags = jieba.analyse.extract_tags(\n",
    "        content, \n",
    "        topK=None, \n",
    "        withWeight=True\n",
    "    )\n",
    "    total = np.zeros((100, ))\n",
    "    weight = 0.0\n",
    "    for word, tfidf in tags:\n",
    "        if word in model.wv.vocab:\n",
    "            total = total + tfidf * model.wv[word]\n",
    "            weight = weight + tfidf\n",
    "    encodings.append(total / weight)\n",
    "print(len(encodings))"
   ]
  },
  {
   "cell_type": "code",
   "execution_count": 9,
   "id": "0e788286",
   "metadata": {},
   "outputs": [],
   "source": [
    "with open(\"w2v_vocab.wv\", \"w\", encoding=\"utf-8\") as f:\n",
    "    f.write(\"{} {}\\n\".format(867, 100))\n",
    "    for i, wv in enumerate(encodings):\n",
    "        wv = \" \".join(map(str, wv))\n",
    "        f.write(\"{} {}\\n\".format(i, wv))"
   ]
  },
  {
   "cell_type": "code",
   "execution_count": 10,
   "id": "93e78e9d",
   "metadata": {},
   "outputs": [],
   "source": [
    "from gensim.models import KeyedVectors\n",
    "d2v = KeyedVectors.load_word2vec_format(\"w2v_vocab.wv\")"
   ]
  },
  {
   "cell_type": "code",
   "execution_count": 11,
   "id": "48737194",
   "metadata": {},
   "outputs": [
    {
     "name": "stdout",
     "output_type": "stream",
     "text": [
      "Enter(0-866):20\n",
      "品牌： 1028\n",
      "分數： 5.5\n",
      "產品名： 久耀閃閃打亮盤\n",
      "內容： 忘   被 版 上 哪一位 網友 給 生火  她 刷 這顆  光澤 讓  好燒 啊 但  對 打亮 最 不能 接受  就 黃 光 而 最 多 網友 開箱  炫光金 就 帶 一點 黃 光 黃皮 人 真 超怕 黃 上加 黃 後來 才 發現 1028 根本 就  出 偏 白光 版  銀 白金 不 知道 到底  他 缺貨 太久 還  一直 眼殘 沒 看到 總之 白 金色 極合 意 就 趁 週六 77 折帶  之前 沒  到 限量 盤 殘念 好 在 1028 又 出  這款 久耀 閃閃 打亮 盤 ❤ 這款 只 單一 色 炫光金 而且 這次  壓紋 超美 ❤ ❤ ❤ ❤  鑽石 光芒  壓紋 光看 心情 就  好 XD 一盒  8g 可以 用到 天荒地老 特價 時 不到 三百元 CP 值  高 ❤ 顏色  炫光金 粉質 算細 不太會 飛粉 之前 1028 出  打亮 餅 都 沒  到 當 在 寶雅 逛  時候  看到  這顆 打亮  以 為  重新 回歸 後來 才 發現 原來  新 產品 這顆 花紋 做 得 漂亮 手背 刷色 摸起來 點 諾諾  刷色 看起來 也  超閃  來看 妝效  沒  到 之前  打亮 餅 所以  也 不 清楚 差 在 哪 其實 少 會 特別注意 開架  打亮 產品 因為 catie  推薦 過 網路上 討論 度 也 蠻高  看到 它  特價 想 說 來 試 看看 而且 容量 跟 粉餅 一樣 足足 8G 掀開 後 鑽石 般 切割 面 閃閃發亮 顏色 為 香檳金 質地 柔滑 金屬 光  光澤感 閃耀 光芒 用 指腹 輕輕 一抹 亮度高 提亮  效果 好 強烈  金屬 光感 讓 五官 更加 立體 終於 被  等到  炫光金 💫 🌟 ✨ 沒想到  也 會 成為 打亮 控  一員 🤩 之前 就 看到 多 人 推薦 1028  打亮 那 時候  2 個 顏色 炫光金 & 暮光橘 不過  去 找  時候 都 只 剩下 暮光橘 顏色  比較 健康 膚色  所以 一直  糾結 到底 要 不要 下手 還好  忍住  😁 😁 這次  名稱 變成 # 1028 久耀 閃閃 打亮 盤 最近 媽咪 再練 手感 想到 就 會 化妝 主要  近視 真 太過 深  眼鏡 拿掉 幾乎 看不見 偏偏 又 無法 戴 隱形眼鏡 所以 眼妝 都 只能靠 感覺 化 這次 購入  １ ０ ２ ８  　 久耀 閃閃 打亮 盤 其實 早就 被燒  一個多月  使用 前   顴骨 比較 高 所以  都 會 把 腮紅 畫 比較 下面 一些 顯色 又 閃亮 亮得 十足 貴氣感 當初 1028 推出 第一代 打亮 時 當時  限量 商品 一 上市 可說 造成 搶購 風潮 再 加上 網路上 更 各種 好評 推薦 爆表 許多  喜歡  美妝 部落 客都 大 推 它  打亮 號稱 比 專櫃 還要 更 閃  打亮  可惜  太晚 知道 當 想購 入時 已經 完全 賣 光光  可能 像  這樣 殘念  人太多 再 加上 銷量 太好 1028 再次 改版 後 上市 和 前 一代 金 坎蒂 今天 來 分享 這塊 1028  久耀 閃閃 打亮 餅  玫瑰 金色 8g  容量 也 挺 大 不 知道 不 能 用到  孫女 都 會 化妝 還 沒用 完 🤣 盒子  可愛  聯名 款 不 小心 就 跟 蜜 粉刷 一起 帶回家  😆 接著 來看 手上 試色 這個 光澤感 也 蠻 美 吧 雖然 它  便宜 而且 還 防水 水龍頭 下 沖 完 👇 🏻 這種 膚 金色  打亮 蠻 適合   不會 太過 張揚 這次 試用   鼎鼎大名  1028 打亮 盤 先說 這 一塊  8g 容量 算 挺大  其實   害怕 開架 打亮 常常 誤踩 雷 但 這盤   靠櫃 試用 後 才 敢 入手 原因  它  粉質 超 細緻 刷 在 鼻子 跟 臉頰 不會 顯 毛孔 ⚠ ️ 前提  你  膚況 也 不能 太差 看看 這 道光  點 香檳金  顏色 因為 本身 皮膚 白底 所以 使用 起火 緣由 被 朋友 亮晶晶  妝 容燒 到 火災 購 通路 立馬 奔 小 屈原 價 購入 NT $ 299 現在 該換 來燒 大家  吧 簡單 介紹 一下 實用 心得 ♡ 綿密  粉質 持久 顯色 ♡ 顏色 為 香檳金 ♡ 輕輕 一刷 就  金屬 光  光澤感 上 完妝 真 覺得 這顆 打亮 閃到 心坎 裡 ... $ 299 這樣 真 值  呀\n",
      "------------------------------\n",
      "相似度: 0.9991602897644043\n",
      "------------------------------\n",
      "品牌： 1028\n",
      "分數： 5.5\n",
      "產品名： 放色線激穩抗震眼線液\n",
      "內容： 高中 剛 開始 練習 畫眼線 從 黑色 開始 入門 結果 因為 眼睛 不夠 圓潤 看起來  銳利 直接 左 轉入 棕色 派 XD 1028  眼線液  從 暹羅 貓 系列 開始 就 蠻 喜歡  因為 真 不暈 後來 出  放色線 也 愛用 筆頭 蠻細  所以  好 描繪 畫 起來 穩 所以 勾勒 出來  線條 也 比較 順  從 濃縮 咖 開始 入坑 雖然  咖啡色 但 顏色 飽和 畫 看起來 這 之前 1028 新品 體驗 活動  試用  收到   DG01 濃 鐵灰 平常 都 比較 喜歡 咖啡色  眼線 黑色 又 比較 無聊 所以 拿到 灰色 滿 開心  包裝  亮面 金屬 配 白字 管身 比較 粗  覺得  好握  可以 筆尖   彈性 用  一陣子 也 沒 起 翹 毛 勾眼 尾 填 隙縫 都  好 上 手 出水量 也  穩定 劃 一筆 這 隻 眼線液 # DG01 鐵灰 外型 真 美 爆  彩妝 外貌 協會  已 崩潰 XDDDDD   未來 感  迷幻 這 外殼 應該  開架 眼線液 中 心 裡 第一名 但 呢 眼線液 本體 就 沒 外殼 來  強 先說 筆毛 筆毛 一般 順軟 雖然 1028 沒 KATE 那麼 厲害 KATE 軟彈 順  猛 但 完全 不 影響 使用 感   個 超級 油 眼皮  人 手上 大約 20 幾支 眼線筆 大約 4 3 被  打入冷宮 不 難 上妝 就 過 幾個 小時 就 變 熊貓眼 尤其  又  個 愛 運動  孩子 偶爾 運動 時 還 會 小 三八 勾個 眼線 1028 這支 真    知音 這 系列  三個 顏色  使用   黃色 管 深 咖啡色 讓 眼神 神 以外 多點 柔和 感 運動  本身 除 底妝控 之外 也  個 小小 眼線 控 用過 多 眼線液 眼線 膠 一直 尋覓  結果 會 讓  持續 回購 得  兩支 一支  KISS ME 花漾 美姬 零 阻力 經典 復古 棕 眼線液 筆 一支  1028  暹羅 貓 這 兩支   無限 回購  名單 最近    一支 雷到 爆  一用 就 想 丟掉  程度 更 奠定   對 這 兩支  尊敬 哈 1028  放色線 激穩 抗震 眼線液  已經 回購 數次 第一次 入手 它  因為 同事 推薦 默默 也 去 購入 之後 就 落入 這 眼線液 筆 坑 再也 出不來  一 開始  入手   黑色  濃烈 黑 然後 發現 它 出  濃縮 咖跟濃 鐵灰 立刻 又   濃 鐵灰 回家 然後 陸陸續續   應該 也  3 隻 吧 一隻 已經 用 畢 早已 送給 垃圾桶  發現 家裡  兩隻 鐵 好化 不暈 又 不貴 筆頭 軟 唯一  缺點 可能  用 幾個 月 之後 出水量 沒 那麼 多 不過 都 已經 用 幾個 月  其實 也 正常 之後 會 考慮 回購 來 更新  最近 愛用  下 睫毛 救星 aka1028 眼線液 全名 長  放色線 激穩 抗震 眼線液 想 找 紅棕色 打造 溫柔 妹子 感 聖誕 妝容  可以 去 試試看 他  新色 玫瑰 棕 夠紅 這色  限量  喔 嗯 哼哼 😏 另 一個 新色  濃 可可 這種 天氣  想來 一杯 ☕ ️ ﻿ ﻿ ﻿ 這支畫 起來 出水 蠻順  些 倒 著畫 內 眼線 會 點 斷水 斷水 那樣 但 這支 不會   喜歡 這 這款 眼線  外包裝 質感  好 觸感 也  好 完全 不輸 專櫃 包裝  好畫 畫 起來 也 順 畫內 眼線 也 不會 暈染 連 這個 眼皮 超會 出油 都 可以 也  顯色 也  飽和 推薦 給想  眼線筆  朋友  感謝 被 抽中 1028 放色線 激穩 抗震 眼線液  試用 在 此 感謝 UrCosme 及 1028 所 舉辦  活動 試用  眼線液 顏色 DG01 濃 鐵灰色 第一次 使用 這個 牌子  眼線液 銀色  管 筆身 相當 顯眼 且觸 碰後不太 手紋 在 筆管 上 棒  質感 試色 在手 背上 筆觸 好 控制 也 能 輕易  畫出細 線條 但 顯色 上 需多疊畫 幾筆 才 能夠 會\n"
     ]
    }
   ],
   "source": [
    "tok = input(\"Enter(0-866):\")\n",
    "data = df.iloc[int(tok)]\n",
    "print(\"品牌：\", data[\"品牌\"])\n",
    "print(\"分數：\", data[\"分數\"])\n",
    "print(\"產品名：\", data[\"產品名\"])\n",
    "print(\"內容：\", data[\"combine\"])\n",
    "print(\"-\" * 30)\n",
    "tok2, sim = d2v.most_similar(tok)[0]\n",
    "print(\"相似度:\", sim)\n",
    "print(\"-\" * 30)\n",
    "data = df.iloc[int(tok2)]\n",
    "print(\"品牌：\", data[\"品牌\"])\n",
    "print(\"分數：\", data[\"分數\"])\n",
    "print(\"產品名：\", data[\"產品名\"])\n",
    "print(\"內容：\", data[\"combine\"])"
   ]
  },
  {
   "cell_type": "code",
   "execution_count": 12,
   "id": "d28e9cd7",
   "metadata": {},
   "outputs": [
    {
     "data": {
      "text/html": [
       "<div>\n",
       "<style scoped>\n",
       "    .dataframe tbody tr th:only-of-type {\n",
       "        vertical-align: middle;\n",
       "    }\n",
       "\n",
       "    .dataframe tbody tr th {\n",
       "        vertical-align: top;\n",
       "    }\n",
       "\n",
       "    .dataframe thead th {\n",
       "        text-align: right;\n",
       "    }\n",
       "</style>\n",
       "<table border=\"1\" class=\"dataframe\">\n",
       "  <thead>\n",
       "    <tr style=\"text-align: right;\">\n",
       "      <th></th>\n",
       "      <th>title</th>\n",
       "      <th>content</th>\n",
       "    </tr>\n",
       "  </thead>\n",
       "  <tbody>\n",
       "    <tr>\n",
       "      <th>0</th>\n",
       "      <td>nature自然妝感</td>\n",
       "      <td>你上一次化全妝是什麼時候呢？很多人的答案會是一多個月以前。2021春夏時尚週妝容多以「自然」...</td>\n",
       "    </tr>\n",
       "    <tr>\n",
       "      <th>1</th>\n",
       "      <td>wild狂野風格</td>\n",
       "      <td>Hermès 一改以往的裸妝路線，今年首度以自家的口紅亮相時裝週，化妝師Dick Page使...</td>\n",
       "    </tr>\n",
       "    <tr>\n",
       "      <th>2</th>\n",
       "      <td>smoke深黑眼線</td>\n",
       "      <td>DIOR秀上模特立體深邃的雙眸，迪奧彩妝創意形象總監Peter Philips表示：「我想以...</td>\n",
       "    </tr>\n",
       "    <tr>\n",
       "      <th>3</th>\n",
       "      <td>nature鮮明頰紅</td>\n",
       "      <td>將柔嫩的粉色腮紅大面積暈染兩頰，和模特兒的深棕膚色和奶油色裸唇形成了鮮明的對比，既清新又俏麗...</td>\n",
       "    </tr>\n",
       "  </tbody>\n",
       "</table>\n",
       "</div>"
      ],
      "text/plain": [
       "        title                                            content\n",
       "0  nature自然妝感  你上一次化全妝是什麼時候呢？很多人的答案會是一多個月以前。2021春夏時尚週妝容多以「自然」...\n",
       "1    wild狂野風格  Hermès 一改以往的裸妝路線，今年首度以自家的口紅亮相時裝週，化妝師Dick Page使...\n",
       "2   smoke深黑眼線  DIOR秀上模特立體深邃的雙眸，迪奧彩妝創意形象總監Peter Philips表示：「我想以...\n",
       "3  nature鮮明頰紅  將柔嫩的粉色腮紅大面積暈染兩頰，和模特兒的深棕膚色和奶油色裸唇形成了鮮明的對比，既清新又俏麗..."
      ]
     },
     "execution_count": 12,
     "metadata": {},
     "output_type": "execute_result"
    }
   ],
   "source": [
    "target_data = pd.read_csv(\"target.csv\", header=0)\n",
    "target_df = target_data.copy()\n",
    "target_df[\"content\"] = target_df[\"content\"].apply(process)\n",
    "target_data"
   ]
  },
  {
   "cell_type": "code",
   "execution_count": 13,
   "id": "28f0ff8d",
   "metadata": {},
   "outputs": [
    {
     "name": "stdout",
     "output_type": "stream",
     "text": [
      "4\n"
     ]
    }
   ],
   "source": [
    "import numpy as np\n",
    "import jieba.analyse\n",
    "encodings = []\n",
    "for content in target_df[\"content\"]:\n",
    "    tags = jieba.analyse.extract_tags(\n",
    "        content, \n",
    "        topK=None, \n",
    "        withWeight=True\n",
    "    )\n",
    "    total = np.zeros((100, ))\n",
    "    weight = 0.0\n",
    "    for word, tfidf in tags:\n",
    "        if word in model.wv.vocab:\n",
    "            total = total + tfidf * model.wv[word]\n",
    "            weight = weight + tfidf\n",
    "    encodings.append(total / weight)\n",
    "print(len(encodings))"
   ]
  },
  {
   "cell_type": "code",
   "execution_count": 14,
   "id": "b5e66ad5",
   "metadata": {},
   "outputs": [],
   "source": [
    "with open(\"target_w2v_vocab.wv\", \"w\", encoding=\"utf-8\") as f:\n",
    "    f.write(\"{} {}\\n\".format(4, 100))\n",
    "    for i, wv in enumerate(encodings):\n",
    "        wv = \" \".join(map(str, wv))\n",
    "        f.write(\"{} {}\\n\".format(i, wv))"
   ]
  },
  {
   "cell_type": "code",
   "execution_count": 15,
   "id": "5d81f5e5",
   "metadata": {},
   "outputs": [],
   "source": [
    "from gensim.models import KeyedVectors\n",
    "target_d2v = KeyedVectors.load_word2vec_format(\"target_w2v_vocab.wv\")"
   ]
  },
  {
   "cell_type": "code",
   "execution_count": 16,
   "id": "19e51bc5",
   "metadata": {},
   "outputs": [
    {
     "name": "stdout",
     "output_type": "stream",
     "text": [
      "Enter(0-3):0\n",
      "風格： nature自然妝感\n",
      "內容： 你 上 一次 化全妝 是 什麼 時候 呢 很多 人 的 答案 會 是 一 多個 月 以前 2021 春夏 時尚 週妝容 多 以 自然 風格 的 簡單 妝容 亮相 近乎 完美 的 肌膚 和 淡淡的 眼影 使用 輕薄 的 粉底 維持 模特兒 的 自然 膚色 並 利用 液體 唇膏 製造 自然 的 雀斑 妝容 選擇 與 唇色 相近 的 唇膏 使 整體 妝容 維持 一致性 打造 自然 素顏感 一樣 使用 輕薄 的 粉底 保持 了 模特兒 的 自然 膚色 只 使用 微量 的 遮 瑕 來 修飾 肌膚 的 暗 沈及 黑眼圈 並在 顴骨 處 進行 打亮 使 肌膚 看起來 更 有 光澤 膨潤感\n",
      "------------------------------\n",
      "相似度: 0.9994322061538696\n",
      "------------------------------\n",
      "品牌： M.A.C\n",
      "分數： 4.9\n",
      "產品名： 3D調光盤 Hyper Real Glow\n",
      "內容： 雖然 身邊  打亮  但 總 嫌 顔 色 過於 自然 M A C 出  3D 調 光盤 時  吸引  好像 他們 家  打亮 產品 還蠻 顯色 和 出名  它共出 2 種色盤     # Flash + Awe 還蠻 大  一盤 顔 色 從左到右 裸金 Flash + Awe 玫瑰 金 Rosy Glow 香檳金 Light of the Part 這盤 之前 被燒  七暈 八素  😂 😂 跑  兩間 都 賣完  他們 說  限量  讓 心 都 涼  😭 😭 結果 在 Carousell 剛好 看到 人 賣 他  因為   太多高 光盤 想 清出 一些 全 新品 啊 😍 😍 嘿嘿 來 開箱 早上 超 興奮  😂 😂 這盤  三個 顏色 Flash + Aw Rosy Gold Light 購入   # Flash + Awe 粉白色 調 為  讓 臉上  高級  光澤感 所以 購入 專櫃  打亮 光澤感 細緻 度  珠光  開架 無法 相比  👍 🏻 常 使用 在 臉上  顏色  左邊 跟 中間  顏色 薄薄 使用 就  若隱若現  高級 光澤 搭配 MAC  貓掌 刷 就  完美 ❤ ️ 雖然 打亮 產品 多 而且 用不完 但 就  容易 被 那 道光 吸引 因為 週年 慶 太多  禮卷 還沒 花完 就 拿來 換 mac  彩妝 跟刷具 這盤 3D 調 光盤 分 兩種 色號 一個 比較 偏 咖啡色  這盤  偏 粉色  用 起來 覺得 每一格 都 差不多 所以  就 沒 分外 雙 C 或 臉頰 還 T 字  就 隨心所欲  刷 搭配 貓掌 刷 隨便 刷 幾下 臉部 真 會  今天 去 面試 完想 放鬆 心情 天氣 也 超熱 就 去 南西店 逛逛 恰好 遇到 MAC 現場  活動 就 停留 觀望 櫃哥 先 使用 1 噴霧 推開 浮粉 脫妝  粉底 再 上 2 妝前 透亮 持妝露 使用 3 專業 彩妝 刷 # 170 用 按壓 方式 來 上 4 超持 妝 無暇 粉底液 其實 到 最後 櫃哥 用  一堆 刷具 眼花撩亂  不過 感覺 刷毛 上 都  柔軟 不會 粗  刺 另 半邊 櫃哥 還讓  這盤 打亮 起初 被 部落 客們 給燒 到 除 實用  三色 裸金 玫瑰 金 香檳金 之外 那個 光澤 簡直  閃到 外太空  那種 程度 💫 但 它 完全 不太顯 肌膚 紋理   老天 額 👀 對於 毛孔 粗大   來說 簡直  福音 💘 💘    \n"
     ]
    }
   ],
   "source": [
    "tok = input(\"Enter(0-3):\")\n",
    "data = target_df.iloc[int(tok)]\n",
    "print(\"風格：\", data[\"title\"])\n",
    "print(\"內容：\", data[\"content\"])\n",
    "print(\"-\" * 30)\n",
    "tok2, sim = d2v.most_similar(tok)[0]\n",
    "print(\"相似度:\", sim)\n",
    "print(\"-\" * 30)\n",
    "data = df.iloc[int(tok2)]\n",
    "print(\"品牌：\", data[\"品牌\"])\n",
    "print(\"分數：\", data[\"分數\"])\n",
    "print(\"產品名：\", data[\"產品名\"])\n",
    "print(\"內容：\", data[\"combine\"])"
   ]
  }
 ],
 "metadata": {
  "kernelspec": {
   "display_name": "Python3[Base]",
   "language": "python",
   "name": "python3"
  },
  "language_info": {
   "codemirror_mode": {
    "name": "ipython",
    "version": 3
   },
   "file_extension": ".py",
   "mimetype": "text/x-python",
   "name": "python",
   "nbconvert_exporter": "python",
   "pygments_lexer": "ipython3",
   "version": "3.8.8"
  }
 },
 "nbformat": 4,
 "nbformat_minor": 5
}
