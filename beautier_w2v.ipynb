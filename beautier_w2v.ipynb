{
 "cells": [
  {
   "cell_type": "code",
   "execution_count": 1,
   "id": "c79f0124",
   "metadata": {},
   "outputs": [
    {
     "name": "stderr",
     "output_type": "stream",
     "text": [
      "Building prefix dict from D:\\onedrive\\Documents\\data\\dict.big ...\n",
      "Loading model from cache R:\\TEMP\\jieba.u3fc4963e5b0b71d0127ab7586a4086cb.cache\n",
      "Loading model cost 1.424 seconds.\n",
      "Prefix dict has been built successfully.\n"
     ]
    }
   ],
   "source": [
    "from urllib.request import urlretrieve\n",
    "import jieba\n",
    "import warnings\n",
    "warnings.filterwarnings(\"ignore\")\n",
    "\"\"\"\n",
    "url = \"https://github.com/fxsjy/jieba/raw/master/extra_dict/dict.txt.big\"\n",
    "urlretrieve(url, \"dict.big\")\n",
    "url = \"https://github.com/Elwing-Chou/mtkdl/raw/master/ptt_dic.txt\"\n",
    "urlretrieve(url, \"dict.ptt\")\n",
    "\"\"\"\n",
    "jieba.set_dictionary(\"dict.big\")\n",
    "jieba.load_userdict(\"dict.ptt\")"
   ]
  },
  {
   "cell_type": "code",
   "execution_count": 2,
   "id": "b94cb435",
   "metadata": {},
   "outputs": [
    {
     "data": {
      "text/html": [
       "<div>\n",
       "<style scoped>\n",
       "    .dataframe tbody tr th:only-of-type {\n",
       "        vertical-align: middle;\n",
       "    }\n",
       "\n",
       "    .dataframe tbody tr th {\n",
       "        vertical-align: top;\n",
       "    }\n",
       "\n",
       "    .dataframe thead th {\n",
       "        text-align: right;\n",
       "    }\n",
       "</style>\n",
       "<table border=\"1\" class=\"dataframe\">\n",
       "  <thead>\n",
       "    <tr style=\"text-align: right;\">\n",
       "      <th></th>\n",
       "      <th>產品名</th>\n",
       "      <th>分數</th>\n",
       "      <th>產品圖片</th>\n",
       "      <th>品牌</th>\n",
       "      <th>分類</th>\n",
       "      <th>評論1</th>\n",
       "      <th>評論2</th>\n",
       "      <th>評論3</th>\n",
       "      <th>評論4</th>\n",
       "      <th>評論5</th>\n",
       "      <th>評論6</th>\n",
       "      <th>評論7</th>\n",
       "      <th>評論8</th>\n",
       "      <th>評論9</th>\n",
       "      <th>評論10</th>\n",
       "    </tr>\n",
       "  </thead>\n",
       "  <tbody>\n",
       "    <tr>\n",
       "      <th>0</th>\n",
       "      <td>三色修容餅  Triple Contour Palette</td>\n",
       "      <td>5.4</td>\n",
       "      <td>https://dg9ugnb21lig7.cloudfront.net/uploads/p...</td>\n",
       "      <td>heme</td>\n",
       "      <td>修容餅</td>\n",
       "      <td>Heme三色修容盤  已經購入一陣子啦～  用到鐵皮君出沒😆  色號：01 NATIONA...</td>\n",
       "      <td>獲得超多美妝YouTuber 推薦的 heme三色修容餅 以前化妝沒那麼注重修容 都隨便刷刷...</td>\n",
       "      <td>這款修容上市前 我一直都是使用 too cool for school 的修容餅 不得不說h...</td>\n",
       "      <td>以前沒有使用修容的習慣,後來開始上課學習彩妝以後 經過老師的說明,還有一些美妝YT的影片後 ...</td>\n",
       "      <td>這塊修容餅粉質綿密是屬於沒那麼顯色的，但就是因為不太顯色的特性，很適合修容或製造眼窩及鼻影...</td>\n",
       "      <td>官網表示: 首次推出「三色修容餅」，精選冷暖兩大色調，特調三色色塊圓型均分，可任意沾取混色，...</td>\n",
       "      <td>在IG上抽獎抽到的 顏色還不錯 可惜用沒兩次就不小心摔碎了QQ 沒辦法提供太多心得 只能挖I...</td>\n",
       "      <td>首先要先說他的價格，購入價格是299真的cp很高，對於之前沒用過修容的我也很容易上手，我是用...</td>\n",
       "      <td>買了00號冷色調 最淺色用作眼窩打底 中間色打鼻影兩側 中間跟最深色混刷打在下顎線 覺得很自...</td>\n",
       "      <td>NONE</td>\n",
       "    </tr>\n",
       "  </tbody>\n",
       "</table>\n",
       "</div>"
      ],
      "text/plain": [
       "                             產品名   分數  \\\n",
       "0  三色修容餅  Triple Contour Palette  5.4   \n",
       "\n",
       "                                                產品圖片    品牌   分類  \\\n",
       "0  https://dg9ugnb21lig7.cloudfront.net/uploads/p...  heme  修容餅   \n",
       "\n",
       "                                                 評論1  \\\n",
       "0   Heme三色修容盤  已經購入一陣子啦～  用到鐵皮君出沒😆  色號：01 NATIONA...   \n",
       "\n",
       "                                                 評論2  \\\n",
       "0  獲得超多美妝YouTuber 推薦的 heme三色修容餅 以前化妝沒那麼注重修容 都隨便刷刷...   \n",
       "\n",
       "                                                 評論3  \\\n",
       "0  這款修容上市前 我一直都是使用 too cool for school 的修容餅 不得不說h...   \n",
       "\n",
       "                                                 評論4  \\\n",
       "0  以前沒有使用修容的習慣,後來開始上課學習彩妝以後 經過老師的說明,還有一些美妝YT的影片後 ...   \n",
       "\n",
       "                                                 評論5  \\\n",
       "0   這塊修容餅粉質綿密是屬於沒那麼顯色的，但就是因為不太顯色的特性，很適合修容或製造眼窩及鼻影...   \n",
       "\n",
       "                                                 評論6  \\\n",
       "0  官網表示: 首次推出「三色修容餅」，精選冷暖兩大色調，特調三色色塊圓型均分，可任意沾取混色，...   \n",
       "\n",
       "                                                 評論7  \\\n",
       "0  在IG上抽獎抽到的 顏色還不錯 可惜用沒兩次就不小心摔碎了QQ 沒辦法提供太多心得 只能挖I...   \n",
       "\n",
       "                                                 評論8  \\\n",
       "0  首先要先說他的價格，購入價格是299真的cp很高，對於之前沒用過修容的我也很容易上手，我是用...   \n",
       "\n",
       "                                                 評論9  評論10  \n",
       "0  買了00號冷色調 最淺色用作眼窩打底 中間色打鼻影兩側 中間跟最深色混刷打在下顎線 覺得很自...  NONE  "
      ]
     },
     "execution_count": 2,
     "metadata": {},
     "output_type": "execute_result"
    }
   ],
   "source": [
    "import pandas as pd\n",
    "data = pd.read_csv(\"data.csv\", header=0)\n",
    "data.head()[:1]"
   ]
  },
  {
   "cell_type": "code",
   "execution_count": 3,
   "id": "38a83e10",
   "metadata": {},
   "outputs": [],
   "source": [
    "df = data.copy()\n",
    "df[\"combine\"] = df[df.columns[5:]].apply(\" \".join, axis=1)"
   ]
  },
  {
   "cell_type": "code",
   "execution_count": 4,
   "id": "a5cde937",
   "metadata": {},
   "outputs": [],
   "source": [
    "import re\n",
    "def process(content):\n",
    "    content = re.sub(r'https?:\\/\\/.*[\\r\\n]*', '', content)\n",
    "    punct = set(u''':!),.:;?]}¢'\"、。〉》」』】〕〗〞︰︱︳﹐､﹒﹔﹕﹖﹗﹚﹜﹞！），．：；？｜｝︴︶︸︺︼︾﹀﹂﹄﹏､～￠々‖•·ˇˉ―--′’”([{£¥'\"‵〈《「『【〔〖（［｛￡￥〝︵︷︹︻︽︿﹁﹃﹙﹛﹝（｛“‘-—_…~/ －＊➜■─★☆=@<>◉é''')\n",
    "    cut = filter(lambda x: x not in punct, jieba.cut(content))\n",
    "    return \" \".join(cut)\n",
    "df[\"combine\"] = df[\"combine\"].apply(process)\n",
    "df[\"combine\"] = df[\"combine\"].str.replace(\"NONE\", \"\")\n",
    "df[\"combine\"] = df[\"combine\"].str.replace(\"的\", \"\")\n",
    "df[\"combine\"] = df[\"combine\"].str.replace(\"我\", \"\")\n",
    "df[\"combine\"] = df[\"combine\"].str.replace(\"是\", \"\")\n",
    "df[\"combine\"] = df[\"combine\"].str.replace(\"買\", \"\")\n",
    "df[\"combine\"] = df[\"combine\"].str.replace(\"了\", \"\")\n",
    "df[\"combine\"] = df[\"combine\"].str.replace(\"有\", \"\")\n",
    "df[\"combine\"] = df[\"combine\"].str.replace(\"很\", \"\")"
   ]
  },
  {
   "cell_type": "code",
   "execution_count": 5,
   "id": "77232a9b",
   "metadata": {},
   "outputs": [],
   "source": [
    "with open(\"lines.txt\", \"w\", encoding=\"utf-8\") as f:\n",
    "    for content in df[\"combine\"]:\n",
    "        f.write(content)\n",
    "        f.write(\"\\n\")"
   ]
  },
  {
   "cell_type": "code",
   "execution_count": 6,
   "id": "b12715ff",
   "metadata": {},
   "outputs": [],
   "source": [
    "from gensim.models.word2vec import LineSentence\n",
    "from gensim.models.word2vec import Word2Vec\n",
    "sentences = LineSentence(\"lines.txt\")\n",
    "model = Word2Vec(sentences)"
   ]
  },
  {
   "cell_type": "code",
   "execution_count": 7,
   "id": "5d1f74b2",
   "metadata": {},
   "outputs": [
    {
     "data": {
      "text/plain": [
       "[('好久沒', 0.9982296824455261),\n",
       " ('時期', 0.998132586479187),\n",
       " ('D', 0.9981110692024231),\n",
       " ('先前', 0.9977195262908936),\n",
       " ('這些', 0.9976620674133301),\n",
       " ('經驗', 0.9976290464401245),\n",
       " ('聽到', 0.9976266622543335),\n",
       " ('鐵片', 0.9974688291549683),\n",
       " ('曾經', 0.9973751306533813),\n",
       " ('ysl', 0.9973300099372864)]"
      ]
     },
     "execution_count": 7,
     "metadata": {},
     "output_type": "execute_result"
    }
   ],
   "source": [
    "vocab = \"武士刀\"\n",
    "model.wv[vocab]\n",
    "model.wv.most_similar(vocab)"
   ]
  },
  {
   "cell_type": "code",
   "execution_count": 8,
   "id": "d329a5bc",
   "metadata": {},
   "outputs": [
    {
     "name": "stdout",
     "output_type": "stream",
     "text": [
      "867\n"
     ]
    }
   ],
   "source": [
    "import numpy as np\n",
    "import jieba.analyse\n",
    "encodings = []\n",
    "for content in df[\"combine\"]:\n",
    "    tags = jieba.analyse.extract_tags(\n",
    "        content, \n",
    "        topK=None, \n",
    "        withWeight=True\n",
    "    )\n",
    "    total = np.zeros((100, ))\n",
    "    weight = 0.0\n",
    "    for word, tfidf in tags:\n",
    "        if word in model.wv.vocab:\n",
    "            total = total + tfidf * model.wv[word]\n",
    "            weight = weight + tfidf\n",
    "    encodings.append(total / weight)\n",
    "print(len(encodings))"
   ]
  },
  {
   "cell_type": "code",
   "execution_count": 9,
   "id": "0e788286",
   "metadata": {},
   "outputs": [],
   "source": [
    "with open(\"w2v_vocab.wv\", \"w\", encoding=\"utf-8\") as f:\n",
    "    f.write(\"{} {}\\n\".format(867, 100))\n",
    "    for i, wv in enumerate(encodings):\n",
    "        wv = \" \".join(map(str, wv))\n",
    "        f.write(\"{} {}\\n\".format(i, wv))"
   ]
  },
  {
   "cell_type": "code",
   "execution_count": 10,
   "id": "93e78e9d",
   "metadata": {},
   "outputs": [],
   "source": [
    "from gensim.models import KeyedVectors\n",
    "d2v = KeyedVectors.load_word2vec_format(\"w2v_vocab.wv\")"
   ]
  },
  {
   "cell_type": "code",
   "execution_count": 13,
   "id": "48737194",
   "metadata": {},
   "outputs": [
    {
     "name": "stdout",
     "output_type": "stream",
     "text": [
      "Enter(0-866):5\n",
      "品牌： 3 Concept Eyes\n",
      "分數： 3.9\n",
      "產品名： GLOW BEAM HIGHLIGHTER\n",
      "內容： 被 幾位 youtuber 跟 網友 文章 燒到 之前 剛好  折扣 就 來 試 看看 這款 它  氣墊 打亮  特別 使用 上  方便 膏體 也  好 取用 打亮 上 在 臉上   自然  亮度    色號  ＃ 𝑹 𝑬 𝑨 𝑹 𝑺 𝑰 𝑫 𝑬 膏 體質 地  濕潤 油滑 軟軟  外包裝  塑膠 尺寸 蠻 小 攜帶方便 ⇡ 自然光 上 跟 室內 光 下 ⇡ 氣墊 材質  黏性  好 看 YOUTUBE 整個 被 查理 燒到 一直 以來 都 追求 光澤 肌  妝 感 用  多 打亮 都 讓  失望 因為 都 太 不 自然 不 粉感 重 就 亮片 大 顯 毛孔  擁 大約 5 個 打亮 沒 一個 讓  滿意 直到 這個 打亮  出現 讓  知道 從 肌膚 亮 出來  自然 光澤  什麼 選  色號  跟 查理 一樣  # REAR SIDE 打開 裡面   鏡子         \n",
      "------------------------------\n",
      "相似度: 0.9980628490447998\n",
      "------------------------------\n",
      "品牌： CHANEL 香奈兒\n",
      "分數： 5.9\n",
      "產品名： 超炫耀釉光唇萃\n",
      "內容： 大家 晚安 先 預祝 各位 連假 愉快 這次 想來 分享 新 上市  唇萃 搭配 限定  木質 禮盒 總共  6 色 內文 圖多 剛好  配合 活動 + 預約 禮物 所以 看起來  澎湃 😂 1 左邊  裸色 毛毛 包 12000 滿額 禮 2 餅乾  部分  預約 禮 3 裸色 紙盒  新 上市 水潤 粉底  禮物 4 右下  活動  香氛 書籤 拿到 遠百禮 卷 本來 想 去 個 果凍 氣墊 但蕊心 都 沒貨 香奈兒 可以 不要 這樣 嗎 言歸正傳 正巧 看到 Vogue Korea 少女時代 Tiffany  what s in my bag 她 推薦  這個 64 號色 這款 唇 釉剛 上市 時  就 去 試過 但色 號太多 眼花撩亂 選不出 什麼 名堂 就 轉身 離開  如今 再 看到 T 原本  想 購入 74 号色 但 已經 賣完  所以   備選 色 72 号色 顏色 比較 透 一些 也 更 青春 一些 上唇 後 會 些 粘感 即使 抿 掉 一些 依舊 会 粘感 這點 些 討厭 不然 顏色 真  美 遮蓋 唇色  OK  也 可以 修飾 唇紋  微微  染唇 效果 但 不強 就  它 這個 唇萃  瓶子  玻璃  拿  時候 多 小心 不然 可 會 摔破 ㄚ 1 2 先來 一張 白 光照 下  特寫 這  第一次 入手 CHANEL  唇彩 本來 被 臉書 文章 燒到 # 75 但 實際 靠櫃 後 櫃姐 推薦  這 隻 # 72 說 擦上去 超顯白 立馬 打中 心 雖然 說 算白 皮膚  但 唇彩 顏色 不 對 真  大 扣分 耶 # 72 紅 超級 美  高級 不 俗氣 紅 點像 熟透  蕃茄 紅 光澤感 也  細緻 質地 也 不 被 許瑋 甯 燒到  香奈兒 超 炫耀 釉光唇萃 好美 其實 從 產品 上市 觀望 到 現在 剛好  大遠 百  250 元 折抵 券 就 拿來 用 掉 # 63 # 64 在 猶豫 63  自然 就 像 自己 唇部  顏色 64 塗 起來 比較  氣色 可能 燈光 照射  關係 照片 點 螢光 但 實際 塗 在 唇 上 不會 反而   氣色 友人 說 63 太 自然 到 像 這次 口紅  分 三次 帶  回頭 過來 比較  時候 才 發現 帶  都  類似 色 ...... 唇膏  COCO 保溼 款  雖然 現在 熱賣 霧面  可  不 愛 ... 所以  手邊  唇膏 幾乎 都  保溼  居多 一 開始 唇 釉  產品 時  入手 過 YSL  顏色   獨特 票亮 可 他 好乾 ...... 乾到 像 在 一直 吸取 你 唇部  水分 一樣 不 舒服 ... 這款 香奈兒 超 炫耀 釉光唇 萃 20 款新色  去年 入手  色號  # 74 實驗 和 # 75 忠實 光 瓶身 金蓋  設計 就 美得 炸裂 真 不得不 入手 啊  幸運 一 開始 就  到  # 75 這支 搶 到 翻掉  色調 真   好看 日常 妝 使用 也  適合 要說 # 75  紅棕色 但  覺得 更 像 栗子 色些 所以  才 又 入手 # 74 來 調色 若 想要 紅棕色 調 # 香奈兒 超 炫耀 釉光唇萃 色號 62 64 62  一個 帶 橘色  裸色 雖然  裸色 但 不會 病 氣感  溫柔 而 優雅  感覺 64  個 比較 亮  玫瑰色 滿顯 白  會給 人 一種   氣質  姊姊 感 一 開始 上唇  水水 亮亮 過 一下子 等 唇彩 乾  以後 會 變成 半霧  感覺 會 稍微 黏 一點點 持色力 中等 不過 用餐 完 還 需要 補 口紅 ㄧ 開始 看到 相關 新聞 時 就 點 興趣 因為 對 漸層  包裝 特別 招架不住 ❤ ️ 唇萃 味道  像 小香 自家 唇膏 刷頭 好 使用 👍 超 炫耀 釉光唇 萃共 20 色 🐱 入手 # 80 永恆 鮮莓紅 小香 # 80 與 GA  鏡光 402 雖然 質地 不同 但 顏色 相似 度 高達 90% 都  美豔 氣勢  玫瑰紅 🌹 ❤ ️ 薄擦厚 擦室 內黃 光看  小香 紫調 更 多些 室內 白光 室外 光 薄擦厚 擦 不 Chanel 香奈兒 這次 新出  超 炫耀 釉光唇萃 被 一個 燒到 入手 太 多支 ... 78 號色   喜歡  李子 色 偏 深紅 釉光 就 偏亮面  顏色 但 又 沒 漆光 這麼 亮 擦 上   氣勢 感 哈  適合 最近  節日 氣氛 萬聖節 與 朋友 聚會 時 擦 聖誕節 感覺 也 可 以來 一下 個人 認為   適合 與 朋友 聚餐  特殊 活動 時可甜 可 正式  一支 唇萃\n"
     ]
    }
   ],
   "source": [
    "tok = input(\"Enter(0-866):\")\n",
    "data = df.iloc[int(tok)]\n",
    "print(\"品牌：\", data[\"品牌\"])\n",
    "print(\"分數：\", data[\"分數\"])\n",
    "print(\"產品名：\", data[\"產品名\"])\n",
    "print(\"內容：\", data[\"combine\"])\n",
    "print(\"-\" * 30)\n",
    "tok2, sim = d2v.most_similar(tok)[0]\n",
    "print(\"相似度:\", sim)\n",
    "print(\"-\" * 30)\n",
    "data = df.iloc[int(tok2)]\n",
    "print(\"品牌：\", data[\"品牌\"])\n",
    "print(\"分數：\", data[\"分數\"])\n",
    "print(\"產品名：\", data[\"產品名\"])\n",
    "print(\"內容：\", data[\"combine\"])"
   ]
  },
  {
   "cell_type": "code",
   "execution_count": 17,
   "id": "90945b32",
   "metadata": {},
   "outputs": [
    {
     "data": {
      "text/html": [
       "<div>\n",
       "<style scoped>\n",
       "    .dataframe tbody tr th:only-of-type {\n",
       "        vertical-align: middle;\n",
       "    }\n",
       "\n",
       "    .dataframe tbody tr th {\n",
       "        vertical-align: top;\n",
       "    }\n",
       "\n",
       "    .dataframe thead th {\n",
       "        text-align: right;\n",
       "    }\n",
       "</style>\n",
       "<table border=\"1\" class=\"dataframe\">\n",
       "  <thead>\n",
       "    <tr style=\"text-align: right;\">\n",
       "      <th></th>\n",
       "      <th>title</th>\n",
       "      <th>content</th>\n",
       "    </tr>\n",
       "  </thead>\n",
       "  <tbody>\n",
       "    <tr>\n",
       "      <th>0</th>\n",
       "      <td>nature自然妝感</td>\n",
       "      <td>你上一次化全妝是什麼時候呢？很多人的答案會是一多個月以前。2021春夏時尚週妝容多以「自然」...</td>\n",
       "    </tr>\n",
       "    <tr>\n",
       "      <th>1</th>\n",
       "      <td>wild狂野風格</td>\n",
       "      <td>Hermès 一改以往的裸妝路線，今年首度以自家的口紅亮相時裝週，化妝師Dick Page使...</td>\n",
       "    </tr>\n",
       "    <tr>\n",
       "      <th>2</th>\n",
       "      <td>smoke深黑眼線</td>\n",
       "      <td>DIOR秀上模特立體深邃的雙眸，迪奧彩妝創意形象總監Peter Philips表示：「我想以...</td>\n",
       "    </tr>\n",
       "    <tr>\n",
       "      <th>3</th>\n",
       "      <td>nature鮮明頰紅</td>\n",
       "      <td>將柔嫩的粉色腮紅大面積暈染兩頰，和模特兒的深棕膚色和奶油色裸唇形成了鮮明的對比，既清新又俏麗...</td>\n",
       "    </tr>\n",
       "  </tbody>\n",
       "</table>\n",
       "</div>"
      ],
      "text/plain": [
       "        title                                            content\n",
       "0  nature自然妝感  你上一次化全妝是什麼時候呢？很多人的答案會是一多個月以前。2021春夏時尚週妝容多以「自然」...\n",
       "1    wild狂野風格  Hermès 一改以往的裸妝路線，今年首度以自家的口紅亮相時裝週，化妝師Dick Page使...\n",
       "2   smoke深黑眼線  DIOR秀上模特立體深邃的雙眸，迪奧彩妝創意形象總監Peter Philips表示：「我想以...\n",
       "3  nature鮮明頰紅  將柔嫩的粉色腮紅大面積暈染兩頰，和模特兒的深棕膚色和奶油色裸唇形成了鮮明的對比，既清新又俏麗..."
      ]
     },
     "execution_count": 17,
     "metadata": {},
     "output_type": "execute_result"
    }
   ],
   "source": [
    "target_data = pd.read_csv(\"target.csv\", header=0)\n",
    "target_df = target_data.copy()\n",
    "target_data"
   ]
  },
  {
   "cell_type": "code",
   "execution_count": 18,
   "id": "c085dbfb",
   "metadata": {},
   "outputs": [
    {
     "name": "stdout",
     "output_type": "stream",
     "text": [
      "4\n"
     ]
    }
   ],
   "source": [
    "import numpy as np\n",
    "import jieba.analyse\n",
    "encodings = []\n",
    "for content in target_df[\"content\"]:\n",
    "    tags = jieba.analyse.extract_tags(\n",
    "        content, \n",
    "        topK=None, \n",
    "        withWeight=True\n",
    "    )\n",
    "    total = np.zeros((100, ))\n",
    "    weight = 0.0\n",
    "    for word, tfidf in tags:\n",
    "        if word in model.wv.vocab:\n",
    "            total = total + tfidf * model.wv[word]\n",
    "            weight = weight + tfidf\n",
    "    encodings.append(total / weight)\n",
    "print(len(encodings))"
   ]
  },
  {
   "cell_type": "code",
   "execution_count": 19,
   "id": "49750f92",
   "metadata": {},
   "outputs": [],
   "source": [
    "with open(\"target_w2v_vocab.wv\", \"w\", encoding=\"utf-8\") as f:\n",
    "    f.write(\"{} {}\\n\".format(4, 100))\n",
    "    for i, wv in enumerate(encodings):\n",
    "        wv = \" \".join(map(str, wv))\n",
    "        f.write(\"{} {}\\n\".format(i, wv))"
   ]
  },
  {
   "cell_type": "code",
   "execution_count": 20,
   "id": "503dfff7",
   "metadata": {},
   "outputs": [],
   "source": [
    "from gensim.models import KeyedVectors\n",
    "target_d2v = KeyedVectors.load_word2vec_format(\"target_w2v_vocab.wv\")"
   ]
  },
  {
   "cell_type": "code",
   "execution_count": null,
   "id": "3145e7bc",
   "metadata": {},
   "outputs": [],
   "source": [
    "tok = input(\"Enter(0-3):\")\n",
    "data = target_df.iloc[int(tok)]\n",
    "print(\"風格：\", data[\"title\"])\n",
    "print(\"內容：\", data[\"content\"])\n",
    "print(\"-\" * 30)\n",
    "tok2, sim = d2v.most_similar(tok)[0]\n",
    "print(\"相似度:\", sim)\n",
    "print(\"-\" * 30)\n",
    "data = df.iloc[int(tok2)]\n",
    "print(\"品牌：\", data[\"品牌\"])\n",
    "print(\"分數：\", data[\"分數\"])\n",
    "print(\"產品名：\", data[\"產品名\"])\n",
    "print(\"內容：\", data[\"combine\"])"
   ]
  }
 ],
 "metadata": {
  "kernelspec": {
   "display_name": "Python3[Base]",
   "language": "python",
   "name": "python3"
  },
  "language_info": {
   "codemirror_mode": {
    "name": "ipython",
    "version": 3
   },
   "file_extension": ".py",
   "mimetype": "text/x-python",
   "name": "python",
   "nbconvert_exporter": "python",
   "pygments_lexer": "ipython3",
   "version": "3.8.8"
  }
 },
 "nbformat": 4,
 "nbformat_minor": 5
}
