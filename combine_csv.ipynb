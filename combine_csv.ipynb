{
 "cells": [
  {
   "cell_type": "code",
   "execution_count": 1,
   "id": "66db05b1",
   "metadata": {
    "collapsed": true
   },
   "outputs": [
    {
     "data": {
      "text/plain": [
       "['修容.csv',\n",
       " '唇彩.csv',\n",
       " '唇膏.csv',\n",
       " '夏季彩妝.csv',\n",
       " '多功能彩妝.csv',\n",
       " '妝前.csv',\n",
       " '定妝.csv',\n",
       " '漆光.csv',\n",
       " '眉彩.csv',\n",
       " '眉筆.csv',\n",
       " '眼影.csv',\n",
       " '眼影盤.csv',\n",
       " '眼線.csv',\n",
       " '睫毛.csv',\n",
       " '睫毛膏.csv',\n",
       " '粉底.csv',\n",
       " '精華液.csv',\n",
       " '素顏霜.csv',\n",
       " '美甲.csv',\n",
       " '腮紅.csv',\n",
       " '蜜粉.csv',\n",
       " '遮瑕.csv',\n",
       " '頰彩.csv']"
      ]
     },
     "execution_count": 1,
     "metadata": {},
     "output_type": "execute_result"
    }
   ],
   "source": [
    "import pandas as pd\n",
    "from glob import glob\n",
    "data_list = glob(\"*.csv\")\n",
    "data_list"
   ]
  },
  {
   "cell_type": "code",
   "execution_count": 2,
   "id": "c6b8fae5",
   "metadata": {
    "collapsed": true
   },
   "outputs": [
    {
     "name": "stdout",
     "output_type": "stream",
     "text": [
      "<class 'pandas.core.frame.DataFrame'>\n",
      "Int64Index: 1019 entries, 0 to 49\n",
      "Data columns (total 15 columns):\n",
      " #   Column  Non-Null Count  Dtype  \n",
      "---  ------  --------------  -----  \n",
      " 0   產品名     1019 non-null   object \n",
      " 1   分數      1019 non-null   float64\n",
      " 2   產品圖片    1019 non-null   object \n",
      " 3   品牌      1019 non-null   object \n",
      " 4   分類      1019 non-null   object \n",
      " 5   評論1     1019 non-null   object \n",
      " 6   評論2     1019 non-null   object \n",
      " 7   評論3     1019 non-null   object \n",
      " 8   評論4     1019 non-null   object \n",
      " 9   評論5     1019 non-null   object \n",
      " 10  評論6     1019 non-null   object \n",
      " 11  評論7     1019 non-null   object \n",
      " 12  評論8     1019 non-null   object \n",
      " 13  評論9     1019 non-null   object \n",
      " 14  評論10    1019 non-null   object \n",
      "dtypes: float64(1), object(14)\n",
      "memory usage: 127.4+ KB\n"
     ]
    }
   ],
   "source": [
    "data = pd.DataFrame()\n",
    "data = pd.concat(pd.read_csv(data, header=0) for data in data_list)\n",
    "df = data.copy()\n",
    "df.info()"
   ]
  },
  {
   "cell_type": "code",
   "execution_count": 3,
   "id": "9977ecad",
   "metadata": {
    "collapsed": true
   },
   "outputs": [
    {
     "name": "stdout",
     "output_type": "stream",
     "text": [
      "<class 'pandas.core.frame.DataFrame'>\n",
      "Int64Index: 867 entries, 0 to 49\n",
      "Data columns (total 15 columns):\n",
      " #   Column  Non-Null Count  Dtype  \n",
      "---  ------  --------------  -----  \n",
      " 0   產品名     867 non-null    object \n",
      " 1   分數      867 non-null    float64\n",
      " 2   產品圖片    867 non-null    object \n",
      " 3   品牌      867 non-null    object \n",
      " 4   分類      867 non-null    object \n",
      " 5   評論1     867 non-null    object \n",
      " 6   評論2     867 non-null    object \n",
      " 7   評論3     867 non-null    object \n",
      " 8   評論4     867 non-null    object \n",
      " 9   評論5     867 non-null    object \n",
      " 10  評論6     867 non-null    object \n",
      " 11  評論7     867 non-null    object \n",
      " 12  評論8     867 non-null    object \n",
      " 13  評論9     867 non-null    object \n",
      " 14  評論10    867 non-null    object \n",
      "dtypes: float64(1), object(14)\n",
      "memory usage: 108.4+ KB\n"
     ]
    }
   ],
   "source": [
    "df.drop_duplicates(inplace=True)\n",
    "df.to_csv(\"data.csv\", index=False)\n",
    "df.info()"
   ]
  },
  {
   "cell_type": "code",
   "execution_count": 45,
   "id": "6150ab81",
   "metadata": {},
   "outputs": [
    {
     "data": {
      "text/plain": [
       "<BarContainer object of 7 artists>"
      ]
     },
     "execution_count": 45,
     "metadata": {},
     "output_type": "execute_result"
    },
    {
     "data": {
      "image/png": "[encoded data removed]",
      "text/plain": [
       "<Figure size 432x288 with 1 Axes>"
      ]
     },
     "metadata": {
      "needs_background": "light"
     },
     "output_type": "display_data"
    }
   ],
   "source": [
    "import numpy as np\n",
    "import matplotlib.pyplot as plt\n",
    "plt.rcParams['font.sans-serif'] = ['Microsoft JhengHei'] \n",
    "plt.rcParams['axes.unicode_minus'] = False\n",
    "\n",
    "mask = df.分類.str.contains(\"眼\")\n",
    "#temp = df[mask].query(\"分數 >= 2\").sort_values(\"分數\", ascending=False)\n",
    "temp = df[mask].sort_values(\"分數\", ascending=False)\n",
    "cls, count = np.unique(temp.分類, return_counts=True)\n",
    "plt.bar(cls, count)"
   ]
  },
  {
   "cell_type": "code",
   "execution_count": 60,
   "id": "ae0c2be7",
   "metadata": {},
   "outputs": [
    {
     "name": "stdout",
     "output_type": "stream",
     "text": [
      "array([ 0.25      ,  9.        , 18.        ,  0.9       ,  0.85714286,\n",
      "        2.        , 18.        ])\n",
      "{0: 0.25,\n",
      " 1: 9.0,\n",
      " 2: 18.0,\n",
      " 3: 0.9000000000000001,\n",
      " 4: 0.8571428571428571,\n",
      " 5: 2.0,\n",
      " 6: 18.0}\n"
     ]
    }
   ],
   "source": [
    "from pprint import pprint\n",
    "weight = (1/count)*np.sum(count)/len(cls)\n",
    "pprint(weight)\n",
    "class_weight = {i:v for i, v in enumerate(weight)}\n",
    "pprint(class_weight)"
   ]
  },
  {
   "cell_type": "code",
   "execution_count": null,
   "id": "e3999a7f",
   "metadata": {},
   "outputs": [],
   "source": []
  }
 ],
 "metadata": {
  "kernelspec": {
   "display_name": "Python3[Base]",
   "language": "python",
   "name": "python3"
  },
  "language_info": {
   "codemirror_mode": {
    "name": "ipython",
    "version": 3
   },
   "file_extension": ".py",
   "mimetype": "text/x-python",
   "name": "python",
   "nbconvert_exporter": "python",
   "pygments_lexer": "ipython3",
   "version": "3.8.8"
  }
 },
 "nbformat": 4,
 "nbformat_minor": 5
}
