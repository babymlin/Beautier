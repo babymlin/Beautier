{
 "cells": [
  {
   "cell_type": "code",
   "execution_count": 1,
   "id": "857d578b",
   "metadata": {},
   "outputs": [],
   "source": [
    "target_dict = {\n",
    "    \"title\":[\"nature自然妝感\", \"wild狂野風格\", \"smoke深黑眼線\", \"nature鮮明頰紅\"],\n",
    "    \"content\":[\"你上一次化全妝是什麼時候呢？很多人的答案會是一多個月以前。2021春夏時尚週妝容多以「自然」風格的簡單妝容亮相：近乎完美的肌膚和淡淡的眼影。使用輕薄的粉底維持模特兒的自然膚色，並利用液體唇膏製造自然的雀斑妝容，選擇與唇色相近的唇膏使整體妝容維持一致性，打造自然素顏感！一樣使用輕薄的粉底保持了模特兒的自然膚色，只使用微量的遮瑕來修飾肌膚的暗沈及黑眼圈，並在顴骨處進行打亮使肌膚看起來更有光澤膨潤感！\", \"Hermès 一改以往的裸妝路線，今年首度以自家的口紅亮相時裝週，化妝師Dick Page使用Hermès的重點色調：Rouge Casaque、Boîte Orange等為模特兒的上色，與服裝的剪裁及色彩相呼應。根據模特兒的膚色搭配深淺不一的紅色系唇膏，其餘臉部妝容則保持裸透，完美襯托出唇膏的顏色，簡約又不失個性！濃黑上揚的眼線，搭配上一抹暗紅唇色，展現強烈的自信妝感。\", \"DIOR秀上模特立體深邃的雙眸，迪奧彩妝創意形象總監Peter Philips表示：「我想以搶眼大膽、粗黑俐落的幾何線條勾勒全框式眼線，描摹出有力眼神，與自然透亮底妝激盪出強烈的對比美感。」在眼頭加深了濃密黑色的陰影，並向眼窩中央暈染煙燻，眼尾眼線拉長，予人酷酷率性的氣息，看起來不顯髒，反而更顯個性！粉色系眼影沿著下睫毛的邊緣朝太陽穴方向輕掃，巧妙的運用眼影來賦予妝容現代感；底妝和唇部則保持裸透，避免整體妝感顯得過於複雜。Tom Ford 以浮誇的藍色系眼影搭配亮粉色系唇膏，迪斯科般的妝容上強列的抓住大眾的眼球。Etam 秀上妝容，整個眼窩至顴骨C字區，點綴上銀色亮片眼影，增加模特兒的臉部立體感，乾淨的光澤底妝搭配上大面積的眼影，完全跳脫彩妝框架！\", \"將柔嫩的粉色腮紅大面積暈染兩頰，和模特兒的深棕膚色和奶油色裸唇形成了鮮明的對比，既清新又俏麗！將腮紅大面積上在臉頰以及眉毛上，營造出有趣的立體感；唇色方面也帶有淡淡的嫩粉色，讓妝感更顯一致性！粉色、藍色、綠色這些春天專屬的幸福美色怎能缺少？ Ulla Johnson秀上模特，雙眼穿戴上玫瑰色眼影，以及橘色頰彩和唇色，顯得活力洋溢。Erdem則是將粉嫩色澤點綴在模特兒的蘋果肌上，同時保持最低限度的妝容，僅搭配上簡約眼線和睫毛，整體妝容顯得乾淨甜美。\"]\n",
    "}"
   ]
  },
  {
   "cell_type": "code",
   "execution_count": 4,
   "id": "14597606",
   "metadata": {},
   "outputs": [],
   "source": [
    "import pandas as pd\n",
    "target_df = pd.DataFrame(target_dict)\n",
    "target_df.to_csv(\"target.csv\", index=False)"
   ]
  }
 ],
 "metadata": {
  "kernelspec": {
   "display_name": "Python 3",
   "language": "python",
   "name": "python3"
  },
  "language_info": {
   "codemirror_mode": {
    "name": "ipython",
    "version": 3
   },
   "file_extension": ".py",
   "mimetype": "text/x-python",
   "name": "python",
   "nbconvert_exporter": "python",
   "pygments_lexer": "ipython3",
   "version": "3.8.8"
  }
 },
 "nbformat": 4,
 "nbformat_minor": 5
}
